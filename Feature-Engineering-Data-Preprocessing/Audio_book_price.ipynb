{
 "cells": [
  {
   "cell_type": "markdown",
   "metadata": {},
   "source": [
    "## Feature Engineering & Data Preprocessing AUC Dataset"
   ]
  },
  {
   "cell_type": "code",
   "execution_count": 44,
   "metadata": {},
   "outputs": [
    {
     "data": {
      "text/html": [
       "<div>\n",
       "<style scoped>\n",
       "    .dataframe tbody tr th:only-of-type {\n",
       "        vertical-align: middle;\n",
       "    }\n",
       "\n",
       "    .dataframe tbody tr th {\n",
       "        vertical-align: top;\n",
       "    }\n",
       "\n",
       "    .dataframe thead th {\n",
       "        text-align: right;\n",
       "    }\n",
       "</style>\n",
       "<table border=\"1\" class=\"dataframe\">\n",
       "  <thead>\n",
       "    <tr style=\"text-align: right;\">\n",
       "      <th></th>\n",
       "      <th>name</th>\n",
       "      <th>author</th>\n",
       "      <th>narrator</th>\n",
       "      <th>time</th>\n",
       "      <th>releasedate</th>\n",
       "      <th>language</th>\n",
       "      <th>stars</th>\n",
       "      <th>price</th>\n",
       "    </tr>\n",
       "  </thead>\n",
       "  <tbody>\n",
       "    <tr>\n",
       "      <th>0</th>\n",
       "      <td>Geronimo Stilton #11 &amp; #12</td>\n",
       "      <td>Writtenby:GeronimoStilton</td>\n",
       "      <td>Narratedby:BillLobely</td>\n",
       "      <td>2 hrs and 20 mins</td>\n",
       "      <td>04-08-08</td>\n",
       "      <td>English</td>\n",
       "      <td>5 out of 5 stars34 ratings</td>\n",
       "      <td>468.00</td>\n",
       "    </tr>\n",
       "    <tr>\n",
       "      <th>1</th>\n",
       "      <td>The Burning Maze</td>\n",
       "      <td>Writtenby:RickRiordan</td>\n",
       "      <td>Narratedby:RobbieDaymond</td>\n",
       "      <td>13 hrs and 8 mins</td>\n",
       "      <td>01-05-18</td>\n",
       "      <td>English</td>\n",
       "      <td>4.5 out of 5 stars41 ratings</td>\n",
       "      <td>820.00</td>\n",
       "    </tr>\n",
       "    <tr>\n",
       "      <th>2</th>\n",
       "      <td>The Deep End</td>\n",
       "      <td>Writtenby:JeffKinney</td>\n",
       "      <td>Narratedby:DanRussell</td>\n",
       "      <td>2 hrs and 3 mins</td>\n",
       "      <td>06-11-20</td>\n",
       "      <td>English</td>\n",
       "      <td>4.5 out of 5 stars38 ratings</td>\n",
       "      <td>410.00</td>\n",
       "    </tr>\n",
       "    <tr>\n",
       "      <th>3</th>\n",
       "      <td>Daughter of the Deep</td>\n",
       "      <td>Writtenby:RickRiordan</td>\n",
       "      <td>Narratedby:SoneelaNankani</td>\n",
       "      <td>11 hrs and 16 mins</td>\n",
       "      <td>05-10-21</td>\n",
       "      <td>English</td>\n",
       "      <td>4.5 out of 5 stars12 ratings</td>\n",
       "      <td>615.00</td>\n",
       "    </tr>\n",
       "    <tr>\n",
       "      <th>4</th>\n",
       "      <td>The Lightning Thief: Percy Jackson, Book 1</td>\n",
       "      <td>Writtenby:RickRiordan</td>\n",
       "      <td>Narratedby:JesseBernstein</td>\n",
       "      <td>10 hrs</td>\n",
       "      <td>13-01-10</td>\n",
       "      <td>English</td>\n",
       "      <td>4.5 out of 5 stars181 ratings</td>\n",
       "      <td>820.00</td>\n",
       "    </tr>\n",
       "    <tr>\n",
       "      <th>5</th>\n",
       "      <td>The Hunger Games: Special Edition</td>\n",
       "      <td>Writtenby:SuzanneCollins</td>\n",
       "      <td>Narratedby:TatianaMaslany</td>\n",
       "      <td>10 hrs and 35 mins</td>\n",
       "      <td>30-10-18</td>\n",
       "      <td>English</td>\n",
       "      <td>5 out of 5 stars72 ratings</td>\n",
       "      <td>656.00</td>\n",
       "    </tr>\n",
       "    <tr>\n",
       "      <th>6</th>\n",
       "      <td>Quest for the Diamond Sword</td>\n",
       "      <td>Writtenby:WinterMorgan</td>\n",
       "      <td>Narratedby:LukeDaniels</td>\n",
       "      <td>2 hrs and 23 mins</td>\n",
       "      <td>25-11-14</td>\n",
       "      <td>English</td>\n",
       "      <td>5 out of 5 stars11 ratings</td>\n",
       "      <td>233.00</td>\n",
       "    </tr>\n",
       "    <tr>\n",
       "      <th>7</th>\n",
       "      <td>The Dark Prophecy</td>\n",
       "      <td>Writtenby:RickRiordan</td>\n",
       "      <td>Narratedby:RobbieDaymond</td>\n",
       "      <td>12 hrs and 32 mins</td>\n",
       "      <td>02-05-17</td>\n",
       "      <td>English</td>\n",
       "      <td>5 out of 5 stars50 ratings</td>\n",
       "      <td>820.00</td>\n",
       "    </tr>\n",
       "    <tr>\n",
       "      <th>8</th>\n",
       "      <td>Merlin Mission Collection</td>\n",
       "      <td>Writtenby:MaryPopeOsborne</td>\n",
       "      <td>Narratedby:MaryPopeOsborne</td>\n",
       "      <td>10 hrs and 56 mins</td>\n",
       "      <td>02-05-17</td>\n",
       "      <td>English</td>\n",
       "      <td>5 out of 5 stars5 ratings</td>\n",
       "      <td>1,256.00</td>\n",
       "    </tr>\n",
       "    <tr>\n",
       "      <th>9</th>\n",
       "      <td>The Tyrant’s Tomb</td>\n",
       "      <td>Writtenby:RickRiordan</td>\n",
       "      <td>Narratedby:RobbieDaymond</td>\n",
       "      <td>13 hrs and 22 mins</td>\n",
       "      <td>24-09-19</td>\n",
       "      <td>English</td>\n",
       "      <td>5 out of 5 stars58 ratings</td>\n",
       "      <td>820.00</td>\n",
       "    </tr>\n",
       "  </tbody>\n",
       "</table>\n",
       "</div>"
      ],
      "text/plain": [
       "                                         name                     author  \\\n",
       "0                  Geronimo Stilton #11 & #12  Writtenby:GeronimoStilton   \n",
       "1                            The Burning Maze      Writtenby:RickRiordan   \n",
       "2                                The Deep End       Writtenby:JeffKinney   \n",
       "3                        Daughter of the Deep      Writtenby:RickRiordan   \n",
       "4  The Lightning Thief: Percy Jackson, Book 1      Writtenby:RickRiordan   \n",
       "5           The Hunger Games: Special Edition   Writtenby:SuzanneCollins   \n",
       "6                 Quest for the Diamond Sword     Writtenby:WinterMorgan   \n",
       "7                           The Dark Prophecy      Writtenby:RickRiordan   \n",
       "8                   Merlin Mission Collection  Writtenby:MaryPopeOsborne   \n",
       "9                           The Tyrant’s Tomb      Writtenby:RickRiordan   \n",
       "\n",
       "                     narrator                time releasedate language  \\\n",
       "0       Narratedby:BillLobely   2 hrs and 20 mins    04-08-08  English   \n",
       "1    Narratedby:RobbieDaymond   13 hrs and 8 mins    01-05-18  English   \n",
       "2       Narratedby:DanRussell    2 hrs and 3 mins    06-11-20  English   \n",
       "3   Narratedby:SoneelaNankani  11 hrs and 16 mins    05-10-21  English   \n",
       "4   Narratedby:JesseBernstein              10 hrs    13-01-10  English   \n",
       "5   Narratedby:TatianaMaslany  10 hrs and 35 mins    30-10-18  English   \n",
       "6      Narratedby:LukeDaniels   2 hrs and 23 mins    25-11-14  English   \n",
       "7    Narratedby:RobbieDaymond  12 hrs and 32 mins    02-05-17  English   \n",
       "8  Narratedby:MaryPopeOsborne  10 hrs and 56 mins    02-05-17  English   \n",
       "9    Narratedby:RobbieDaymond  13 hrs and 22 mins    24-09-19  English   \n",
       "\n",
       "                           stars     price  \n",
       "0     5 out of 5 stars34 ratings    468.00  \n",
       "1   4.5 out of 5 stars41 ratings    820.00  \n",
       "2   4.5 out of 5 stars38 ratings    410.00  \n",
       "3   4.5 out of 5 stars12 ratings    615.00  \n",
       "4  4.5 out of 5 stars181 ratings    820.00  \n",
       "5     5 out of 5 stars72 ratings    656.00  \n",
       "6     5 out of 5 stars11 ratings    233.00  \n",
       "7     5 out of 5 stars50 ratings    820.00  \n",
       "8      5 out of 5 stars5 ratings  1,256.00  \n",
       "9     5 out of 5 stars58 ratings    820.00  "
      ]
     },
     "execution_count": 44,
     "metadata": {},
     "output_type": "execute_result"
    }
   ],
   "source": [
    "import pandas as pd\n",
    "import numpy as np\n",
    "import matplotlib.pyplot as plt\n",
    "import seaborn as sns\n",
    "import warnings\n",
    "warnings.filterwarnings('ignore')\n",
    "\n",
    "from sklearn.model_selection import train_test_split\n",
    "\n",
    "%matplotlib inline\n",
    "\n",
    "df = pd.read_csv('AUC.csv')\n",
    "\n",
    "df.head(10)"
   ]
  },
  {
   "cell_type": "code",
   "execution_count": 45,
   "metadata": {},
   "outputs": [
    {
     "name": "stdout",
     "output_type": "stream",
     "text": [
      "<class 'pandas.core.frame.DataFrame'>\n",
      "RangeIndex: 87489 entries, 0 to 87488\n",
      "Data columns (total 8 columns):\n",
      " #   Column       Non-Null Count  Dtype \n",
      "---  ------       --------------  ----- \n",
      " 0   name         87489 non-null  object\n",
      " 1   author       87489 non-null  object\n",
      " 2   narrator     87489 non-null  object\n",
      " 3   time         87489 non-null  object\n",
      " 4   releasedate  87489 non-null  object\n",
      " 5   language     87489 non-null  object\n",
      " 6   stars        87489 non-null  object\n",
      " 7   price        87489 non-null  object\n",
      "dtypes: object(8)\n",
      "memory usage: 5.3+ MB\n"
     ]
    }
   ],
   "source": [
    "df.info()"
   ]
  },
  {
   "cell_type": "markdown",
   "metadata": {},
   "source": [
    "Remove unnecessary columns"
   ]
  },
  {
   "cell_type": "code",
   "execution_count": 46,
   "metadata": {},
   "outputs": [],
   "source": [
    "cols_to_remove = ['name']\n",
    "#df.drop(cols_to_remove, axis=1, inplace=True)\n"
   ]
  },
  {
   "cell_type": "markdown",
   "metadata": {},
   "source": [
    "Put columns into consistent format"
   ]
  },
  {
   "cell_type": "code",
   "execution_count": 47,
   "metadata": {},
   "outputs": [
    {
     "name": "stdout",
     "output_type": "stream",
     "text": [
      "<class 'pandas.core.frame.DataFrame'>\n",
      "RangeIndex: 87489 entries, 0 to 87488\n",
      "Data columns (total 9 columns):\n",
      " #   Column       Non-Null Count  Dtype         \n",
      "---  ------       --------------  -----         \n",
      " 0   name         87489 non-null  object        \n",
      " 1   author       87489 non-null  object        \n",
      " 2   narrator     87489 non-null  object        \n",
      " 3   time         87489 non-null  object        \n",
      " 4   releasedate  87489 non-null  datetime64[ns]\n",
      " 5   language     87489 non-null  object        \n",
      " 6   stars        4514 non-null   float64       \n",
      " 7   price        78015 non-null  float64       \n",
      " 8   ratings      9250 non-null   float64       \n",
      "dtypes: datetime64[ns](1), float64(3), object(5)\n",
      "memory usage: 6.0+ MB\n"
     ]
    }
   ],
   "source": [
    "\n",
    "\n",
    "\n",
    "df['releasedate'] = pd.to_datetime(df['releasedate'])\n",
    "\n",
    "df['narrator'] = df['narrator'].str.replace('^Narratedby:', '', regex=True)\n",
    "df['author'] = df['author'].str.replace('^Writtenby:', '', regex=True)\n",
    "df['ratings'] = df['stars'].str.extract(r'(\\d+)(?=\\s?ratings)')  \n",
    "df['stars'] = df['stars'].str.extract(r'(\\d\\.\\d)') \n",
    "fix_cols = ['price','stars','ratings']\n",
    "df[fix_cols] = df[fix_cols].apply(pd.to_numeric, errors='coerce')\n",
    "\n",
    "df.info()\n",
    "\n",
    "\n"
   ]
  },
  {
   "cell_type": "markdown",
   "metadata": {},
   "source": [
    "Checking missing values"
   ]
  },
  {
   "cell_type": "code",
   "execution_count": 48,
   "metadata": {},
   "outputs": [],
   "source": [
    "import pandas as pd\n",
    "import re\n",
    "\n",
    "\n",
    "def convert_to_minutes(time_str):\n",
    "\n",
    "    if type(time_str) is str:\n",
    "        hours_match = re.search(r'(\\d+)\\s*hrs?', time_str)\n",
    "        minutes_match = re.search(r'(\\d+)\\s*mins?', time_str)\n",
    "\n",
    "\n",
    "        total_minutes = 0\n",
    "\n",
    "        if hours_match:\n",
    "            total_minutes += int(hours_match.group(1)) * 60  \n",
    "        if minutes_match:\n",
    "            total_minutes += int(minutes_match.group(1)) \n",
    "    else:\n",
    "        total_minutes = time_str\n",
    "    return total_minutes\n",
    "\n",
    "df['time'] = df['time'].apply(convert_to_minutes)\n"
   ]
  },
  {
   "cell_type": "code",
   "execution_count": 49,
   "metadata": {},
   "outputs": [
    {
     "data": {
      "text/html": [
       "<div>\n",
       "<style scoped>\n",
       "    .dataframe tbody tr th:only-of-type {\n",
       "        vertical-align: middle;\n",
       "    }\n",
       "\n",
       "    .dataframe tbody tr th {\n",
       "        vertical-align: top;\n",
       "    }\n",
       "\n",
       "    .dataframe thead th {\n",
       "        text-align: right;\n",
       "    }\n",
       "</style>\n",
       "<table border=\"1\" class=\"dataframe\">\n",
       "  <thead>\n",
       "    <tr style=\"text-align: right;\">\n",
       "      <th></th>\n",
       "      <th>name</th>\n",
       "      <th>author</th>\n",
       "      <th>narrator</th>\n",
       "      <th>time</th>\n",
       "      <th>releasedate</th>\n",
       "      <th>language</th>\n",
       "      <th>stars</th>\n",
       "      <th>price</th>\n",
       "      <th>ratings</th>\n",
       "    </tr>\n",
       "  </thead>\n",
       "  <tbody>\n",
       "    <tr>\n",
       "      <th>0</th>\n",
       "      <td>Geronimo Stilton #11 &amp; #12</td>\n",
       "      <td>GeronimoStilton</td>\n",
       "      <td>BillLobely</td>\n",
       "      <td>140</td>\n",
       "      <td>2008-04-08</td>\n",
       "      <td>English</td>\n",
       "      <td>NaN</td>\n",
       "      <td>468.0</td>\n",
       "      <td>34.0</td>\n",
       "    </tr>\n",
       "    <tr>\n",
       "      <th>1</th>\n",
       "      <td>The Burning Maze</td>\n",
       "      <td>RickRiordan</td>\n",
       "      <td>RobbieDaymond</td>\n",
       "      <td>788</td>\n",
       "      <td>2018-01-05</td>\n",
       "      <td>English</td>\n",
       "      <td>4.5</td>\n",
       "      <td>820.0</td>\n",
       "      <td>41.0</td>\n",
       "    </tr>\n",
       "    <tr>\n",
       "      <th>2</th>\n",
       "      <td>The Deep End</td>\n",
       "      <td>JeffKinney</td>\n",
       "      <td>DanRussell</td>\n",
       "      <td>123</td>\n",
       "      <td>2020-06-11</td>\n",
       "      <td>English</td>\n",
       "      <td>4.5</td>\n",
       "      <td>410.0</td>\n",
       "      <td>38.0</td>\n",
       "    </tr>\n",
       "    <tr>\n",
       "      <th>3</th>\n",
       "      <td>Daughter of the Deep</td>\n",
       "      <td>RickRiordan</td>\n",
       "      <td>SoneelaNankani</td>\n",
       "      <td>676</td>\n",
       "      <td>2021-05-10</td>\n",
       "      <td>English</td>\n",
       "      <td>4.5</td>\n",
       "      <td>615.0</td>\n",
       "      <td>12.0</td>\n",
       "    </tr>\n",
       "    <tr>\n",
       "      <th>4</th>\n",
       "      <td>The Lightning Thief: Percy Jackson, Book 1</td>\n",
       "      <td>RickRiordan</td>\n",
       "      <td>JesseBernstein</td>\n",
       "      <td>600</td>\n",
       "      <td>2010-01-13</td>\n",
       "      <td>English</td>\n",
       "      <td>4.5</td>\n",
       "      <td>820.0</td>\n",
       "      <td>181.0</td>\n",
       "    </tr>\n",
       "  </tbody>\n",
       "</table>\n",
       "</div>"
      ],
      "text/plain": [
       "                                         name           author  \\\n",
       "0                  Geronimo Stilton #11 & #12  GeronimoStilton   \n",
       "1                            The Burning Maze      RickRiordan   \n",
       "2                                The Deep End       JeffKinney   \n",
       "3                        Daughter of the Deep      RickRiordan   \n",
       "4  The Lightning Thief: Percy Jackson, Book 1      RickRiordan   \n",
       "\n",
       "         narrator  time releasedate language  stars  price  ratings  \n",
       "0      BillLobely   140  2008-04-08  English    NaN  468.0     34.0  \n",
       "1   RobbieDaymond   788  2018-01-05  English    4.5  820.0     41.0  \n",
       "2      DanRussell   123  2020-06-11  English    4.5  410.0     38.0  \n",
       "3  SoneelaNankani   676  2021-05-10  English    4.5  615.0     12.0  \n",
       "4  JesseBernstein   600  2010-01-13  English    4.5  820.0    181.0  "
      ]
     },
     "execution_count": 49,
     "metadata": {},
     "output_type": "execute_result"
    }
   ],
   "source": [
    "df.head()"
   ]
  },
  {
   "cell_type": "code",
   "execution_count": 50,
   "metadata": {},
   "outputs": [
    {
     "data": {
      "text/plain": [
       "name               0\n",
       "author             0\n",
       "narrator           0\n",
       "time               0\n",
       "releasedate        0\n",
       "language           0\n",
       "stars          82975\n",
       "price           9474\n",
       "ratings        78239\n",
       "dtype: int64"
      ]
     },
     "execution_count": 50,
     "metadata": {},
     "output_type": "execute_result"
    }
   ],
   "source": [
    "\n",
    "df.isna().sum()"
   ]
  },
  {
   "cell_type": "markdown",
   "metadata": {},
   "source": [
    "Checking duplicated values"
   ]
  },
  {
   "cell_type": "code",
   "execution_count": 51,
   "metadata": {},
   "outputs": [
    {
     "data": {
      "text/plain": [
       "1"
      ]
     },
     "execution_count": 51,
     "metadata": {},
     "output_type": "execute_result"
    }
   ],
   "source": [
    "df.duplicated().sum()"
   ]
  },
  {
   "cell_type": "markdown",
   "metadata": {},
   "source": [
    "df = df.dropna(subset=['price'])"
   ]
  },
  {
   "cell_type": "markdown",
   "metadata": {},
   "source": [
    "Handling Duplicated Values\n",
    "- Removing duplicated rows"
   ]
  },
  {
   "cell_type": "code",
   "execution_count": 52,
   "metadata": {},
   "outputs": [
    {
     "data": {
      "text/plain": [
       "0"
      ]
     },
     "execution_count": 52,
     "metadata": {},
     "output_type": "execute_result"
    }
   ],
   "source": [
    "\n",
    "df.drop_duplicates(inplace=True)\n",
    "\n",
    "df.duplicated().sum()"
   ]
  },
  {
   "cell_type": "markdown",
   "metadata": {},
   "source": [
    "Visualize numerical columns with boxplot"
   ]
  },
  {
   "cell_type": "code",
   "execution_count": 53,
   "metadata": {},
   "outputs": [],
   "source": [
    "num_cols = ['price', 'stars', 'time','ratings']"
   ]
  },
  {
   "cell_type": "code",
   "execution_count": 54,
   "metadata": {},
   "outputs": [
    {
     "data": {
      "image/png": "[encoded data removed]",
      "text/plain": [
       "<Figure size 1200x600 with 1 Axes>"
      ]
     },
     "metadata": {},
     "output_type": "display_data"
    }
   ],
   "source": [
    "plt.figure(figsize=(12, 6))\n",
    "sns.boxplot(data=df[num_cols])\n",
    "plt.show()"
   ]
  },
  {
   "cell_type": "code",
   "execution_count": 55,
   "metadata": {},
   "outputs": [
    {
     "data": {
      "image/png": "[encoded data removed]",
      "text/plain": [
       "<Figure size 640x480 with 1 Axes>"
      ]
     },
     "metadata": {},
     "output_type": "display_data"
    }
   ],
   "source": [
    "sns.boxplot(data=df['time'])\n",
    "plt.title('time Boxplot')\n",
    "plt.show()"
   ]
  },
  {
   "cell_type": "code",
   "execution_count": 56,
   "metadata": {},
   "outputs": [
    {
     "data": {
      "image/png": "[encoded data removed]",
      "text/plain": [
       "<Figure size 640x480 with 1 Axes>"
      ]
     },
     "metadata": {},
     "output_type": "display_data"
    }
   ],
   "source": [
    "sns.boxplot(data=df['stars'])\n",
    "plt.title('stars Boxplot')\n",
    "plt.show()"
   ]
  },
  {
   "cell_type": "code",
   "execution_count": 57,
   "metadata": {},
   "outputs": [
    {
     "data": {
      "image/png": "[encoded data removed]",
      "text/plain": [
       "<Figure size 640x480 with 1 Axes>"
      ]
     },
     "metadata": {},
     "output_type": "display_data"
    }
   ],
   "source": [
    "sns.boxplot(data=df['ratings'])\n",
    "plt.title('ratings Boxplot')\n",
    "plt.show()"
   ]
  },
  {
   "cell_type": "markdown",
   "metadata": {},
   "source": [
    "Visualize numerical columns with Histogram Plot"
   ]
  },
  {
   "cell_type": "code",
   "execution_count": 58,
   "metadata": {},
   "outputs": [
    {
     "data": {
      "image/png": "[encoded data removed]",
      "text/plain": [
       "<Figure size 1200x600 with 4 Axes>"
      ]
     },
     "metadata": {},
     "output_type": "display_data"
    }
   ],
   "source": [
    "df[num_cols].hist(bins=30, figsize=(12, 6))\n",
    "plt.show()\n"
   ]
  },
  {
   "cell_type": "markdown",
   "metadata": {},
   "source": [
    "Reducing Outliers by Log-transforming `time` and `ratings` column"
   ]
  },
  {
   "cell_type": "code",
   "execution_count": 59,
   "metadata": {},
   "outputs": [
    {
     "data": {
      "image/png": "[encoded data removed]",
      "text/plain": [
       "<Figure size 640x480 with 1 Axes>"
      ]
     },
     "metadata": {},
     "output_type": "display_data"
    },
    {
     "data": {
      "image/png": "[encoded data removed]",
      "text/plain": [
       "<Figure size 640x480 with 1 Axes>"
      ]
     },
     "metadata": {},
     "output_type": "display_data"
    }
   ],
   "source": [
    "df['time'] = np.log(df['time'])\n",
    "\n",
    "sns.boxplot(df['time'])\n",
    "plt.show()\n",
    "\n",
    "sns.histplot(df['time'], bins=35)\n",
    "plt.show()"
   ]
  },
  {
   "cell_type": "code",
   "execution_count": 60,
   "metadata": {},
   "outputs": [
    {
     "data": {
      "image/png": "[encoded data removed]",
      "text/plain": [
       "<Figure size 640x480 with 1 Axes>"
      ]
     },
     "metadata": {},
     "output_type": "display_data"
    },
    {
     "data": {
      "image/png": "[encoded data removed]",
      "text/plain": [
       "<Figure size 640x480 with 1 Axes>"
      ]
     },
     "metadata": {},
     "output_type": "display_data"
    }
   ],
   "source": [
    "df['stars'] = (df['stars']-1)/4\n",
    "\n",
    "sns.boxplot(df['stars'])\n",
    "plt.show()\n",
    "\n",
    "sns.histplot(df['stars'], bins=35)\n",
    "plt.show()\n"
   ]
  },
  {
   "cell_type": "code",
   "execution_count": 61,
   "metadata": {},
   "outputs": [
    {
     "data": {
      "image/png": "[encoded data removed]",
      "text/plain": [
       "<Figure size 640x480 with 1 Axes>"
      ]
     },
     "metadata": {},
     "output_type": "display_data"
    },
    {
     "data": {
      "image/png": "[encoded data removed]",
      "text/plain": [
       "<Figure size 640x480 with 1 Axes>"
      ]
     },
     "metadata": {},
     "output_type": "display_data"
    }
   ],
   "source": [
    "df['ratings'] = np.log(df['ratings'])\n",
    "\n",
    "sns.boxplot(df['ratings'])\n",
    "plt.show()\n",
    "\n",
    "sns.histplot(df['ratings'], bins=35)\n",
    "plt.show()\n",
    "\n"
   ]
  },
  {
   "cell_type": "markdown",
   "metadata": {},
   "source": [
    "Split data into train & test to avoid data leakage"
   ]
  },
  {
   "cell_type": "code",
   "execution_count": 62,
   "metadata": {},
   "outputs": [
    {
     "data": {
      "text/plain": [
       "((69990, 8), (17498, 8), (69990,), (17498,))"
      ]
     },
     "execution_count": 62,
     "metadata": {},
     "output_type": "execute_result"
    }
   ],
   "source": [
    "# Split data into training and testing sets\n",
    "X = df.drop('price', axis=1)\n",
    "y = df['price']\n",
    "\n",
    "X_train, X_test, y_train, y_test = train_test_split(X, y, test_size=0.2, random_state=42)\n",
    "\n",
    "X_train.shape, X_test.shape, y_train.shape, y_test.shape\n"
   ]
  },
  {
   "cell_type": "code",
   "execution_count": 63,
   "metadata": {},
   "outputs": [
    {
     "data": {
      "text/plain": [
       "name               0\n",
       "author             0\n",
       "narrator           0\n",
       "time               0\n",
       "releasedate        0\n",
       "language           0\n",
       "stars          82974\n",
       "price           9473\n",
       "ratings        78238\n",
       "dtype: int64"
      ]
     },
     "execution_count": 63,
     "metadata": {},
     "output_type": "execute_result"
    }
   ],
   "source": [
    "df.isna().sum()"
   ]
  },
  {
   "cell_type": "markdown",
   "metadata": {},
   "source": [
    "Feature Scaling (numerical column only!!)"
   ]
  },
  {
   "cell_type": "code",
   "execution_count": 64,
   "metadata": {},
   "outputs": [
    {
     "data": {
      "image/png": "[encoded data removed]",
      "text/plain": [
       "<Figure size 1200x600 with 4 Axes>"
      ]
     },
     "metadata": {},
     "output_type": "display_data"
    }
   ],
   "source": [
    "num_cols.remove('price')\n",
    "X_train[num_cols].hist(bins=20, figsize=(12, 6))\n",
    "plt.show()"
   ]
  },
  {
   "cell_type": "code",
   "execution_count": 65,
   "metadata": {},
   "outputs": [
    {
     "data": {
      "image/png": "[encoded data removed]",
      "text/plain": [
       "<Figure size 1200x600 with 4 Axes>"
      ]
     },
     "metadata": {},
     "output_type": "display_data"
    }
   ],
   "source": [
    "from sklearn.preprocessing import StandardScaler\n",
    "\n",
    "scaler = StandardScaler()\n",
    "\n",
    "X_train[num_cols] = scaler.fit_transform(X_train[num_cols])\n",
    "X_test[num_cols] = scaler.transform(X_test[num_cols])\n",
    "\n",
    "X_train[num_cols].hist(bins=20, figsize=(12, 6))\n",
    "plt.show()"
   ]
  },
  {
   "cell_type": "code",
   "execution_count": 66,
   "metadata": {},
   "outputs": [
    {
     "data": {
      "image/png": "[encoded data removed]",
      "text/plain": [
       "<Figure size 640x480 with 1 Axes>"
      ]
     },
     "metadata": {},
     "output_type": "display_data"
    }
   ],
   "source": [
    "sns.boxplot(data=X_train[num_cols])\n",
    "plt.show()"
   ]
  },
  {
   "cell_type": "markdown",
   "metadata": {},
   "source": [
    "Handling Missing Values"
   ]
  },
  {
   "cell_type": "code",
   "execution_count": 67,
   "metadata": {},
   "outputs": [
    {
     "data": {
      "text/plain": [
       "name           0.000000\n",
       "author         0.000000\n",
       "narrator       0.000000\n",
       "time           0.000000\n",
       "releasedate    0.000000\n",
       "language       0.000000\n",
       "stars          0.948107\n",
       "ratings        0.893942\n",
       "dtype: float64"
      ]
     },
     "execution_count": 67,
     "metadata": {},
     "output_type": "execute_result"
    }
   ],
   "source": [
    "X_train.isna().sum() / len(X_train)\n"
   ]
  },
  {
   "cell_type": "code",
   "execution_count": 68,
   "metadata": {},
   "outputs": [
    {
     "data": {
      "text/plain": [
       "name           0.000000\n",
       "author         0.000000\n",
       "narrator       0.000000\n",
       "time           0.000000\n",
       "releasedate    0.000000\n",
       "language       0.000000\n",
       "stars          0.949594\n",
       "ratings        0.895588\n",
       "dtype: float64"
      ]
     },
     "execution_count": 68,
     "metadata": {},
     "output_type": "execute_result"
    }
   ],
   "source": [
    "X_test.isna().sum() / len(X_test)"
   ]
  },
  {
   "cell_type": "code",
   "execution_count": 69,
   "metadata": {},
   "outputs": [
    {
     "data": {
      "image/png": "[encoded data removed]",
      "text/plain": [
       "<Figure size 1000x800 with 4 Axes>"
      ]
     },
     "metadata": {},
     "output_type": "display_data"
    }
   ],
   "source": [
    "X_train[num_cols].hist(bins=20, figsize=(10, 8))\n",
    "plt.show()"
   ]
  },
  {
   "cell_type": "markdown",
   "metadata": {},
   "source": [
    "Check Skewness"
   ]
  },
  {
   "cell_type": "code",
   "execution_count": 70,
   "metadata": {},
   "outputs": [
    {
     "data": {
      "text/plain": [
       "(1.2186190513324362, -3.4684753142688383)"
      ]
     },
     "execution_count": 70,
     "metadata": {},
     "output_type": "execute_result"
    }
   ],
   "source": [
    "X_train['ratings'].skew(), X_train['stars'].skew()"
   ]
  },
  {
   "cell_type": "markdown",
   "metadata": {},
   "source": [
    "Missing Value imputation"
   ]
  },
  {
   "cell_type": "code",
   "execution_count": 71,
   "metadata": {},
   "outputs": [
    {
     "data": {
      "text/plain": [
       "name           0.0\n",
       "author         0.0\n",
       "narrator       0.0\n",
       "time           0.0\n",
       "releasedate    0.0\n",
       "language       0.0\n",
       "stars          0.0\n",
       "ratings        0.0\n",
       "dtype: float64"
      ]
     },
     "execution_count": 71,
     "metadata": {},
     "output_type": "execute_result"
    }
   ],
   "source": [
    "X_train['ratings'].fillna(X_train['ratings'].median(), inplace=True)\n",
    "X_test['ratings'].fillna(X_test['ratings'].median(), inplace=True)\n",
    "\n",
    "X_train['stars'].fillna(X_train['stars'].mean(), inplace=True)\n",
    "X_test['stars'].fillna(X_test['stars'].mean(), inplace=True)\n",
    "\n",
    "X_train.isna().sum() / len(X_train)"
   ]
  },
  {
   "cell_type": "code",
   "execution_count": 72,
   "metadata": {},
   "outputs": [
    {
     "data": {
      "image/png": "[encoded data removed]",
      "text/plain": [
       "<Figure size 1000x800 with 2 Axes>"
      ]
     },
     "metadata": {},
     "output_type": "display_data"
    }
   ],
   "source": [
    "X_train[['ratings', 'stars']].hist(bins=20, figsize=(10, 8))\n",
    "plt.show()"
   ]
  },
  {
   "cell_type": "code",
   "execution_count": 73,
   "metadata": {},
   "outputs": [
    {
     "name": "stdout",
     "output_type": "stream",
     "text": [
      "name           0\n",
      "author         0\n",
      "narrator       0\n",
      "time           0\n",
      "releasedate    0\n",
      "language       0\n",
      "stars          0\n",
      "ratings        0\n",
      "dtype: int64\n"
     ]
    }
   ],
   "source": [
    "print(X_test.isna().sum())"
   ]
  },
  {
   "cell_type": "code",
   "execution_count": 74,
   "metadata": {},
   "outputs": [
    {
     "data": {
      "image/png": "[encoded data removed]",
      "text/plain": [
       "<Figure size 640x480 with 1 Axes>"
      ]
     },
     "metadata": {},
     "output_type": "display_data"
    }
   ],
   "source": [
    "X_train['ratings'].hist(bins=20)\n",
    "plt.show()\n"
   ]
  },
  {
   "cell_type": "code",
   "execution_count": 75,
   "metadata": {},
   "outputs": [
    {
     "name": "stdout",
     "output_type": "stream",
     "text": [
      "--------------------------------------------------\n",
      "name\n",
      "The Art of War                 17\n",
      "Sterling Biographies           17\n",
      "Pride and Prejudice            13\n",
      "Sterling Point Books           12\n",
      "The Science of Getting Rich    12\n",
      "                               ..\n",
      "Nurturing Healing Love          1\n",
      "Your Leadership Moment          1\n",
      "Models of the Mind              1\n",
      "A Crown of Blood and Bone       1\n",
      "第708回 新刊ラジオ第2部プレミアム　            1\n",
      "Name: count, Length: 66737, dtype: int64\n",
      "--------------------------------------------------\n",
      "author\n",
      "矢島雅弘,石橋遊                               670\n",
      "SmartReading                           314\n",
      "中西貴之,BJ                                235\n",
      "div.                                   221\n",
      "OnlineStudioProductions                172\n",
      "                                      ... \n",
      "JoshOzersky                              1\n",
      "CaralynBuehner,MarkBuehner               1\n",
      "AlannaOkun                               1\n",
      "JeanFrançoisMénard,MarieMalchelosse      1\n",
      "SarahGraves                              1\n",
      "Name: count, Length: 40694, dtype: int64\n",
      "--------------------------------------------------\n",
      "narrator\n",
      "anonymous           816\n",
      "矢島雅弘,石橋遊            670\n",
      "Intuitive           373\n",
      "uncredited          261\n",
      "中西貴之,BJ             235\n",
      "                   ... \n",
      "DavidGodfrey          1\n",
      "岡本麻李                  1\n",
      "JoePlummer            1\n",
      "GeorgeLeeAndrews      1\n",
      "CharlesMinx           1\n",
      "Name: count, Length: 25412, dtype: int64\n",
      "--------------------------------------------------\n",
      "language\n",
      "English             49560\n",
      "german               6580\n",
      "spanish              2809\n",
      "japanese             2509\n",
      "italian              2140\n",
      "french               1920\n",
      "russian              1440\n",
      "danish                743\n",
      "portuguese            433\n",
      "swedish               419\n",
      "Hindi                 356\n",
      "polish                183\n",
      "finnish               160\n",
      "dutch                 152\n",
      "tamil                 125\n",
      "catalan               123\n",
      "mandarin_chinese       76\n",
      "icelandic              42\n",
      "romanian               41\n",
      "hungarian              28\n",
      "urdu                   23\n",
      "afrikaans              22\n",
      "czech                  20\n",
      "arabic                 16\n",
      "turkish                16\n",
      "greek                  16\n",
      "norwegian              12\n",
      "galician                8\n",
      "bulgarian               7\n",
      "korean                  4\n",
      "slovene                 3\n",
      "lithuanian              2\n",
      "basque                  1\n",
      "telugu                  1\n",
      "Name: count, dtype: int64\n",
      "--------------------------------------------------\n"
     ]
    }
   ],
   "source": [
    "categorical_cols = X_train.select_dtypes(include=['object']).columns\n",
    "\n",
    "print('-'*50)\n",
    "for col in categorical_cols:\n",
    "    print(X_train[col].value_counts())\n",
    "    print('-'*50)"
   ]
  },
  {
   "cell_type": "code",
   "execution_count": 76,
   "metadata": {},
   "outputs": [],
   "source": [
    "columns_to_lower = ['name', 'author', 'narrator', 'language']\n",
    "for col in columns_to_lower:\n",
    "    df[col] = df[col].str.lower()\n"
   ]
  },
  {
   "cell_type": "code",
   "execution_count": 77,
   "metadata": {},
   "outputs": [
    {
     "name": "stdout",
     "output_type": "stream",
     "text": [
      "--------------------------------------------------\n",
      "name\n",
      "The Art of War                 17\n",
      "Sterling Biographies           17\n",
      "Pride and Prejudice            13\n",
      "Sterling Point Books           12\n",
      "The Science of Getting Rich    12\n",
      "                               ..\n",
      "Nurturing Healing Love          1\n",
      "Your Leadership Moment          1\n",
      "Models of the Mind              1\n",
      "A Crown of Blood and Bone       1\n",
      "第708回 新刊ラジオ第2部プレミアム　            1\n",
      "Name: count, Length: 66737, dtype: int64\n",
      "--------------------------------------------------\n",
      "author\n",
      "矢島雅弘,石橋遊                               670\n",
      "SmartReading                           314\n",
      "中西貴之,BJ                                235\n",
      "div.                                   221\n",
      "OnlineStudioProductions                172\n",
      "                                      ... \n",
      "JoshOzersky                              1\n",
      "CaralynBuehner,MarkBuehner               1\n",
      "AlannaOkun                               1\n",
      "JeanFrançoisMénard,MarieMalchelosse      1\n",
      "SarahGraves                              1\n",
      "Name: count, Length: 40694, dtype: int64\n",
      "--------------------------------------------------\n",
      "narrator\n",
      "anonymous           816\n",
      "矢島雅弘,石橋遊            670\n",
      "Intuitive           373\n",
      "uncredited          261\n",
      "中西貴之,BJ             235\n",
      "                   ... \n",
      "DavidGodfrey          1\n",
      "岡本麻李                  1\n",
      "JoePlummer            1\n",
      "GeorgeLeeAndrews      1\n",
      "CharlesMinx           1\n",
      "Name: count, Length: 25412, dtype: int64\n",
      "--------------------------------------------------\n",
      "language\n",
      "English             49560\n",
      "german               6580\n",
      "spanish              2809\n",
      "japanese             2509\n",
      "italian              2140\n",
      "french               1920\n",
      "russian              1440\n",
      "danish                743\n",
      "portuguese            433\n",
      "swedish               419\n",
      "Hindi                 356\n",
      "polish                183\n",
      "finnish               160\n",
      "dutch                 152\n",
      "tamil                 125\n",
      "catalan               123\n",
      "mandarin_chinese       76\n",
      "icelandic              42\n",
      "romanian               41\n",
      "hungarian              28\n",
      "urdu                   23\n",
      "afrikaans              22\n",
      "czech                  20\n",
      "arabic                 16\n",
      "turkish                16\n",
      "greek                  16\n",
      "norwegian              12\n",
      "galician                8\n",
      "bulgarian               7\n",
      "korean                  4\n",
      "slovene                 3\n",
      "lithuanian              2\n",
      "basque                  1\n",
      "telugu                  1\n",
      "Name: count, dtype: int64\n",
      "--------------------------------------------------\n"
     ]
    }
   ],
   "source": [
    "categorical_cols = X_train.select_dtypes(include=['object']).columns\n",
    "\n",
    "print('-'*50)\n",
    "for col in categorical_cols:\n",
    "    print(X_train[col].value_counts())\n",
    "    print('-'*50)"
   ]
  },
  {
   "cell_type": "markdown",
   "metadata": {},
   "source": [
    "Categorical Encoding"
   ]
  },
  {
   "cell_type": "code",
   "execution_count": 78,
   "metadata": {},
   "outputs": [
    {
     "data": {
      "text/html": [
       "<div>\n",
       "<style scoped>\n",
       "    .dataframe tbody tr th:only-of-type {\n",
       "        vertical-align: middle;\n",
       "    }\n",
       "\n",
       "    .dataframe tbody tr th {\n",
       "        vertical-align: top;\n",
       "    }\n",
       "\n",
       "    .dataframe thead th {\n",
       "        text-align: right;\n",
       "    }\n",
       "</style>\n",
       "<table border=\"1\" class=\"dataframe\">\n",
       "  <thead>\n",
       "    <tr style=\"text-align: right;\">\n",
       "      <th></th>\n",
       "      <th>name</th>\n",
       "      <th>author</th>\n",
       "      <th>narrator</th>\n",
       "      <th>time</th>\n",
       "      <th>releasedate</th>\n",
       "      <th>stars</th>\n",
       "      <th>ratings</th>\n",
       "      <th>language_Hindi</th>\n",
       "      <th>language_afrikaans</th>\n",
       "      <th>language_arabic</th>\n",
       "      <th>...</th>\n",
       "      <th>language_portuguese</th>\n",
       "      <th>language_romanian</th>\n",
       "      <th>language_russian</th>\n",
       "      <th>language_slovene</th>\n",
       "      <th>language_spanish</th>\n",
       "      <th>language_swedish</th>\n",
       "      <th>language_tamil</th>\n",
       "      <th>language_telugu</th>\n",
       "      <th>language_turkish</th>\n",
       "      <th>language_urdu</th>\n",
       "    </tr>\n",
       "  </thead>\n",
       "  <tbody>\n",
       "    <tr>\n",
       "      <th>25763</th>\n",
       "      <td>Fatal Vows</td>\n",
       "      <td>JosephHosey</td>\n",
       "      <td>NickSummer</td>\n",
       "      <td>0.341544</td>\n",
       "      <td>2022-03-31</td>\n",
       "      <td>-4.734343e-16</td>\n",
       "      <td>-0.272998</td>\n",
       "      <td>False</td>\n",
       "      <td>False</td>\n",
       "      <td>False</td>\n",
       "      <td>...</td>\n",
       "      <td>False</td>\n",
       "      <td>False</td>\n",
       "      <td>False</td>\n",
       "      <td>False</td>\n",
       "      <td>False</td>\n",
       "      <td>False</td>\n",
       "      <td>False</td>\n",
       "      <td>False</td>\n",
       "      <td>False</td>\n",
       "      <td>False</td>\n",
       "    </tr>\n",
       "    <tr>\n",
       "      <th>1671</th>\n",
       "      <td>Contes per a famílies felices</td>\n",
       "      <td>BegoñaIbarrola</td>\n",
       "      <td>CarmeAmbrós</td>\n",
       "      <td>-0.050551</td>\n",
       "      <td>2022-07-01</td>\n",
       "      <td>-4.734343e-16</td>\n",
       "      <td>-0.272998</td>\n",
       "      <td>False</td>\n",
       "      <td>False</td>\n",
       "      <td>False</td>\n",
       "      <td>...</td>\n",
       "      <td>False</td>\n",
       "      <td>False</td>\n",
       "      <td>False</td>\n",
       "      <td>False</td>\n",
       "      <td>False</td>\n",
       "      <td>False</td>\n",
       "      <td>False</td>\n",
       "      <td>False</td>\n",
       "      <td>False</td>\n",
       "      <td>False</td>\n",
       "    </tr>\n",
       "    <tr>\n",
       "      <th>65808</th>\n",
       "      <td>Sok út vezet a nirvánába</td>\n",
       "      <td>MérőLászló</td>\n",
       "      <td>FürAnikó</td>\n",
       "      <td>-1.109402</td>\n",
       "      <td>2019-05-31</td>\n",
       "      <td>-4.734343e-16</td>\n",
       "      <td>-0.272998</td>\n",
       "      <td>False</td>\n",
       "      <td>False</td>\n",
       "      <td>False</td>\n",
       "      <td>...</td>\n",
       "      <td>False</td>\n",
       "      <td>False</td>\n",
       "      <td>False</td>\n",
       "      <td>False</td>\n",
       "      <td>False</td>\n",
       "      <td>False</td>\n",
       "      <td>False</td>\n",
       "      <td>False</td>\n",
       "      <td>False</td>\n",
       "      <td>False</td>\n",
       "    </tr>\n",
       "    <tr>\n",
       "      <th>59836</th>\n",
       "      <td>La mala espera</td>\n",
       "      <td>MarceloLuján</td>\n",
       "      <td>JuanMagraner</td>\n",
       "      <td>0.527858</td>\n",
       "      <td>2021-10-29</td>\n",
       "      <td>-4.734343e-16</td>\n",
       "      <td>-0.272998</td>\n",
       "      <td>False</td>\n",
       "      <td>False</td>\n",
       "      <td>False</td>\n",
       "      <td>...</td>\n",
       "      <td>False</td>\n",
       "      <td>False</td>\n",
       "      <td>False</td>\n",
       "      <td>False</td>\n",
       "      <td>True</td>\n",
       "      <td>False</td>\n",
       "      <td>False</td>\n",
       "      <td>False</td>\n",
       "      <td>False</td>\n",
       "      <td>False</td>\n",
       "    </tr>\n",
       "    <tr>\n",
       "      <th>71292</th>\n",
       "      <td>Dragon Fever</td>\n",
       "      <td>DonnaGrant</td>\n",
       "      <td>AntonyFerguson</td>\n",
       "      <td>0.044525</td>\n",
       "      <td>2017-07-04</td>\n",
       "      <td>-4.734343e-16</td>\n",
       "      <td>-0.272998</td>\n",
       "      <td>False</td>\n",
       "      <td>False</td>\n",
       "      <td>False</td>\n",
       "      <td>...</td>\n",
       "      <td>False</td>\n",
       "      <td>False</td>\n",
       "      <td>False</td>\n",
       "      <td>False</td>\n",
       "      <td>False</td>\n",
       "      <td>False</td>\n",
       "      <td>False</td>\n",
       "      <td>False</td>\n",
       "      <td>False</td>\n",
       "      <td>False</td>\n",
       "    </tr>\n",
       "  </tbody>\n",
       "</table>\n",
       "<p>5 rows × 40 columns</p>\n",
       "</div>"
      ],
      "text/plain": [
       "                                name          author        narrator  \\\n",
       "25763                     Fatal Vows     JosephHosey      NickSummer   \n",
       "1671   Contes per a famílies felices  BegoñaIbarrola     CarmeAmbrós   \n",
       "65808       Sok út vezet a nirvánába      MérőLászló        FürAnikó   \n",
       "59836                 La mala espera    MarceloLuján    JuanMagraner   \n",
       "71292                   Dragon Fever      DonnaGrant  AntonyFerguson   \n",
       "\n",
       "           time releasedate         stars   ratings  language_Hindi  \\\n",
       "25763  0.341544  2022-03-31 -4.734343e-16 -0.272998           False   \n",
       "1671  -0.050551  2022-07-01 -4.734343e-16 -0.272998           False   \n",
       "65808 -1.109402  2019-05-31 -4.734343e-16 -0.272998           False   \n",
       "59836  0.527858  2021-10-29 -4.734343e-16 -0.272998           False   \n",
       "71292  0.044525  2017-07-04 -4.734343e-16 -0.272998           False   \n",
       "\n",
       "       language_afrikaans  language_arabic  ...  language_portuguese  \\\n",
       "25763               False            False  ...                False   \n",
       "1671                False            False  ...                False   \n",
       "65808               False            False  ...                False   \n",
       "59836               False            False  ...                False   \n",
       "71292               False            False  ...                False   \n",
       "\n",
       "       language_romanian  language_russian  language_slovene  \\\n",
       "25763              False             False             False   \n",
       "1671               False             False             False   \n",
       "65808              False             False             False   \n",
       "59836              False             False             False   \n",
       "71292              False             False             False   \n",
       "\n",
       "       language_spanish  language_swedish  language_tamil  language_telugu  \\\n",
       "25763             False             False           False            False   \n",
       "1671              False             False           False            False   \n",
       "65808             False             False           False            False   \n",
       "59836              True             False           False            False   \n",
       "71292             False             False           False            False   \n",
       "\n",
       "       language_turkish  language_urdu  \n",
       "25763             False          False  \n",
       "1671              False          False  \n",
       "65808             False          False  \n",
       "59836             False          False  \n",
       "71292             False          False  \n",
       "\n",
       "[5 rows x 40 columns]"
      ]
     },
     "execution_count": 78,
     "metadata": {},
     "output_type": "execute_result"
    }
   ],
   "source": [
    "# one hot encode\n",
    "categorical_cols = ['language']\n",
    "X_train = pd.get_dummies(X_train, columns=categorical_cols, drop_first=True)\n",
    "X_test = pd.get_dummies(X_test, columns=categorical_cols, drop_first=True)\n",
    "\n",
    "X_train.head()\n"
   ]
  },
  {
   "cell_type": "code",
   "execution_count": 79,
   "metadata": {},
   "outputs": [
    {
     "data": {
      "text/plain": [
       "Index(['name', 'author', 'narrator', 'time', 'releasedate', 'stars', 'ratings',\n",
       "       'language_Hindi', 'language_afrikaans', 'language_arabic',\n",
       "       'language_basque', 'language_bulgarian', 'language_catalan',\n",
       "       'language_czech', 'language_danish', 'language_dutch',\n",
       "       'language_finnish', 'language_french', 'language_galician',\n",
       "       'language_german', 'language_greek', 'language_hungarian',\n",
       "       'language_icelandic', 'language_italian', 'language_japanese',\n",
       "       'language_korean', 'language_lithuanian', 'language_mandarin_chinese',\n",
       "       'language_norwegian', 'language_polish', 'language_portuguese',\n",
       "       'language_romanian', 'language_russian', 'language_slovene',\n",
       "       'language_spanish', 'language_swedish', 'language_tamil',\n",
       "       'language_telugu', 'language_turkish', 'language_urdu'],\n",
       "      dtype='object')"
      ]
     },
     "execution_count": 79,
     "metadata": {},
     "output_type": "execute_result"
    }
   ],
   "source": [
    "X_train.columns"
   ]
  },
  {
   "cell_type": "markdown",
   "metadata": {},
   "source": [
    "Label Encoding Target Values"
   ]
  },
  {
   "cell_type": "code",
   "execution_count": 80,
   "metadata": {},
   "outputs": [
    {
     "data": {
      "text/plain": [
       "array([353, 289, 111, ..., 716, 506,  88], dtype=int64)"
      ]
     },
     "execution_count": 80,
     "metadata": {},
     "output_type": "execute_result"
    }
   ],
   "source": [
    "from sklearn.preprocessing import LabelEncoder\n",
    "\n",
    "le = LabelEncoder()\n",
    "\n",
    "y_train = le.fit_transform(y_train)\n",
    "\n",
    "y_train\n"
   ]
  },
  {
   "cell_type": "code",
   "execution_count": null,
   "metadata": {},
   "outputs": [],
   "source": []
  },
  {
   "cell_type": "code",
   "execution_count": 81,
   "metadata": {},
   "outputs": [
    {
     "data": {
      "text/html": [
       "<div>\n",
       "<style scoped>\n",
       "    .dataframe tbody tr th:only-of-type {\n",
       "        vertical-align: middle;\n",
       "    }\n",
       "\n",
       "    .dataframe tbody tr th {\n",
       "        vertical-align: top;\n",
       "    }\n",
       "\n",
       "    .dataframe thead th {\n",
       "        text-align: right;\n",
       "    }\n",
       "</style>\n",
       "<table border=\"1\" class=\"dataframe\">\n",
       "  <thead>\n",
       "    <tr style=\"text-align: right;\">\n",
       "      <th></th>\n",
       "      <th>name</th>\n",
       "      <th>author</th>\n",
       "      <th>narrator</th>\n",
       "      <th>time</th>\n",
       "      <th>releasedate</th>\n",
       "      <th>stars</th>\n",
       "      <th>ratings</th>\n",
       "      <th>language_Hindi</th>\n",
       "      <th>language_afrikaans</th>\n",
       "      <th>language_arabic</th>\n",
       "      <th>...</th>\n",
       "      <th>language_portuguese</th>\n",
       "      <th>language_romanian</th>\n",
       "      <th>language_russian</th>\n",
       "      <th>language_slovene</th>\n",
       "      <th>language_spanish</th>\n",
       "      <th>language_swedish</th>\n",
       "      <th>language_tamil</th>\n",
       "      <th>language_telugu</th>\n",
       "      <th>language_turkish</th>\n",
       "      <th>language_urdu</th>\n",
       "    </tr>\n",
       "  </thead>\n",
       "  <tbody>\n",
       "    <tr>\n",
       "      <th>25763</th>\n",
       "      <td>Fatal Vows</td>\n",
       "      <td>JosephHosey</td>\n",
       "      <td>NickSummer</td>\n",
       "      <td>0.341544</td>\n",
       "      <td>2022-03-31</td>\n",
       "      <td>-4.734343e-16</td>\n",
       "      <td>-0.272998</td>\n",
       "      <td>False</td>\n",
       "      <td>False</td>\n",
       "      <td>False</td>\n",
       "      <td>...</td>\n",
       "      <td>False</td>\n",
       "      <td>False</td>\n",
       "      <td>False</td>\n",
       "      <td>False</td>\n",
       "      <td>False</td>\n",
       "      <td>False</td>\n",
       "      <td>False</td>\n",
       "      <td>False</td>\n",
       "      <td>False</td>\n",
       "      <td>False</td>\n",
       "    </tr>\n",
       "    <tr>\n",
       "      <th>1671</th>\n",
       "      <td>Contes per a famílies felices</td>\n",
       "      <td>BegoñaIbarrola</td>\n",
       "      <td>CarmeAmbrós</td>\n",
       "      <td>-0.050551</td>\n",
       "      <td>2022-07-01</td>\n",
       "      <td>-4.734343e-16</td>\n",
       "      <td>-0.272998</td>\n",
       "      <td>False</td>\n",
       "      <td>False</td>\n",
       "      <td>False</td>\n",
       "      <td>...</td>\n",
       "      <td>False</td>\n",
       "      <td>False</td>\n",
       "      <td>False</td>\n",
       "      <td>False</td>\n",
       "      <td>False</td>\n",
       "      <td>False</td>\n",
       "      <td>False</td>\n",
       "      <td>False</td>\n",
       "      <td>False</td>\n",
       "      <td>False</td>\n",
       "    </tr>\n",
       "    <tr>\n",
       "      <th>65808</th>\n",
       "      <td>Sok út vezet a nirvánába</td>\n",
       "      <td>MérőLászló</td>\n",
       "      <td>FürAnikó</td>\n",
       "      <td>-1.109402</td>\n",
       "      <td>2019-05-31</td>\n",
       "      <td>-4.734343e-16</td>\n",
       "      <td>-0.272998</td>\n",
       "      <td>False</td>\n",
       "      <td>False</td>\n",
       "      <td>False</td>\n",
       "      <td>...</td>\n",
       "      <td>False</td>\n",
       "      <td>False</td>\n",
       "      <td>False</td>\n",
       "      <td>False</td>\n",
       "      <td>False</td>\n",
       "      <td>False</td>\n",
       "      <td>False</td>\n",
       "      <td>False</td>\n",
       "      <td>False</td>\n",
       "      <td>False</td>\n",
       "    </tr>\n",
       "    <tr>\n",
       "      <th>59836</th>\n",
       "      <td>La mala espera</td>\n",
       "      <td>MarceloLuján</td>\n",
       "      <td>JuanMagraner</td>\n",
       "      <td>0.527858</td>\n",
       "      <td>2021-10-29</td>\n",
       "      <td>-4.734343e-16</td>\n",
       "      <td>-0.272998</td>\n",
       "      <td>False</td>\n",
       "      <td>False</td>\n",
       "      <td>False</td>\n",
       "      <td>...</td>\n",
       "      <td>False</td>\n",
       "      <td>False</td>\n",
       "      <td>False</td>\n",
       "      <td>False</td>\n",
       "      <td>True</td>\n",
       "      <td>False</td>\n",
       "      <td>False</td>\n",
       "      <td>False</td>\n",
       "      <td>False</td>\n",
       "      <td>False</td>\n",
       "    </tr>\n",
       "    <tr>\n",
       "      <th>71292</th>\n",
       "      <td>Dragon Fever</td>\n",
       "      <td>DonnaGrant</td>\n",
       "      <td>AntonyFerguson</td>\n",
       "      <td>0.044525</td>\n",
       "      <td>2017-07-04</td>\n",
       "      <td>-4.734343e-16</td>\n",
       "      <td>-0.272998</td>\n",
       "      <td>False</td>\n",
       "      <td>False</td>\n",
       "      <td>False</td>\n",
       "      <td>...</td>\n",
       "      <td>False</td>\n",
       "      <td>False</td>\n",
       "      <td>False</td>\n",
       "      <td>False</td>\n",
       "      <td>False</td>\n",
       "      <td>False</td>\n",
       "      <td>False</td>\n",
       "      <td>False</td>\n",
       "      <td>False</td>\n",
       "      <td>False</td>\n",
       "    </tr>\n",
       "    <tr>\n",
       "      <th>...</th>\n",
       "      <td>...</td>\n",
       "      <td>...</td>\n",
       "      <td>...</td>\n",
       "      <td>...</td>\n",
       "      <td>...</td>\n",
       "      <td>...</td>\n",
       "      <td>...</td>\n",
       "      <td>...</td>\n",
       "      <td>...</td>\n",
       "      <td>...</td>\n",
       "      <td>...</td>\n",
       "      <td>...</td>\n",
       "      <td>...</td>\n",
       "      <td>...</td>\n",
       "      <td>...</td>\n",
       "      <td>...</td>\n",
       "      <td>...</td>\n",
       "      <td>...</td>\n",
       "      <td>...</td>\n",
       "      <td>...</td>\n",
       "      <td>...</td>\n",
       "    </tr>\n",
       "    <tr>\n",
       "      <th>6265</th>\n",
       "      <td>Akimbo and the Crocodile Man</td>\n",
       "      <td>AlexanderMcCallSmith</td>\n",
       "      <td>AlexanderMcCallSmith</td>\n",
       "      <td>-1.260878</td>\n",
       "      <td>2015-04-06</td>\n",
       "      <td>-4.734343e-16</td>\n",
       "      <td>-0.272998</td>\n",
       "      <td>False</td>\n",
       "      <td>False</td>\n",
       "      <td>False</td>\n",
       "      <td>...</td>\n",
       "      <td>False</td>\n",
       "      <td>False</td>\n",
       "      <td>False</td>\n",
       "      <td>False</td>\n",
       "      <td>False</td>\n",
       "      <td>False</td>\n",
       "      <td>False</td>\n",
       "      <td>False</td>\n",
       "      <td>False</td>\n",
       "      <td>False</td>\n",
       "    </tr>\n",
       "    <tr>\n",
       "      <th>54886</th>\n",
       "      <td>Dünenliebe</td>\n",
       "      <td>LotteRömer</td>\n",
       "      <td>VerenaWolfien,TimGössler</td>\n",
       "      <td>0.445589</td>\n",
       "      <td>2021-07-29</td>\n",
       "      <td>-4.734343e-16</td>\n",
       "      <td>-0.272998</td>\n",
       "      <td>False</td>\n",
       "      <td>False</td>\n",
       "      <td>False</td>\n",
       "      <td>...</td>\n",
       "      <td>False</td>\n",
       "      <td>False</td>\n",
       "      <td>False</td>\n",
       "      <td>False</td>\n",
       "      <td>False</td>\n",
       "      <td>False</td>\n",
       "      <td>False</td>\n",
       "      <td>False</td>\n",
       "      <td>False</td>\n",
       "      <td>False</td>\n",
       "    </tr>\n",
       "    <tr>\n",
       "      <th>76820</th>\n",
       "      <td>That Deep River Feeling</td>\n",
       "      <td>JackieAshenden</td>\n",
       "      <td>AvaLucas</td>\n",
       "      <td>0.605938</td>\n",
       "      <td>2021-09-09</td>\n",
       "      <td>-4.734343e-16</td>\n",
       "      <td>-0.272998</td>\n",
       "      <td>False</td>\n",
       "      <td>False</td>\n",
       "      <td>False</td>\n",
       "      <td>...</td>\n",
       "      <td>False</td>\n",
       "      <td>False</td>\n",
       "      <td>False</td>\n",
       "      <td>False</td>\n",
       "      <td>False</td>\n",
       "      <td>False</td>\n",
       "      <td>False</td>\n",
       "      <td>False</td>\n",
       "      <td>False</td>\n",
       "      <td>False</td>\n",
       "    </tr>\n",
       "    <tr>\n",
       "      <th>860</th>\n",
       "      <td>The Jungle Book</td>\n",
       "      <td>RudyardKipling</td>\n",
       "      <td>CharlesMinx</td>\n",
       "      <td>0.220430</td>\n",
       "      <td>2010-10-22</td>\n",
       "      <td>-4.734343e-16</td>\n",
       "      <td>-0.272998</td>\n",
       "      <td>False</td>\n",
       "      <td>False</td>\n",
       "      <td>False</td>\n",
       "      <td>...</td>\n",
       "      <td>False</td>\n",
       "      <td>False</td>\n",
       "      <td>False</td>\n",
       "      <td>False</td>\n",
       "      <td>False</td>\n",
       "      <td>False</td>\n",
       "      <td>False</td>\n",
       "      <td>False</td>\n",
       "      <td>False</td>\n",
       "      <td>False</td>\n",
       "    </tr>\n",
       "    <tr>\n",
       "      <th>15795</th>\n",
       "      <td>第708回 新刊ラジオ第2部プレミアム</td>\n",
       "      <td>矢島雅弘,石橋遊</td>\n",
       "      <td>矢島雅弘,石橋遊</td>\n",
       "      <td>-2.009112</td>\n",
       "      <td>2018-05-16</td>\n",
       "      <td>-4.734343e-16</td>\n",
       "      <td>-0.272998</td>\n",
       "      <td>False</td>\n",
       "      <td>False</td>\n",
       "      <td>False</td>\n",
       "      <td>...</td>\n",
       "      <td>False</td>\n",
       "      <td>False</td>\n",
       "      <td>False</td>\n",
       "      <td>False</td>\n",
       "      <td>False</td>\n",
       "      <td>False</td>\n",
       "      <td>False</td>\n",
       "      <td>False</td>\n",
       "      <td>False</td>\n",
       "      <td>False</td>\n",
       "    </tr>\n",
       "  </tbody>\n",
       "</table>\n",
       "<p>69990 rows × 40 columns</p>\n",
       "</div>"
      ],
      "text/plain": [
       "                                name                author  \\\n",
       "25763                     Fatal Vows           JosephHosey   \n",
       "1671   Contes per a famílies felices        BegoñaIbarrola   \n",
       "65808       Sok út vezet a nirvánába            MérőLászló   \n",
       "59836                 La mala espera          MarceloLuján   \n",
       "71292                   Dragon Fever            DonnaGrant   \n",
       "...                              ...                   ...   \n",
       "6265    Akimbo and the Crocodile Man  AlexanderMcCallSmith   \n",
       "54886                     Dünenliebe            LotteRömer   \n",
       "76820        That Deep River Feeling        JackieAshenden   \n",
       "860                  The Jungle Book        RudyardKipling   \n",
       "15795           第708回 新刊ラジオ第2部プレミアム　              矢島雅弘,石橋遊   \n",
       "\n",
       "                       narrator      time releasedate         stars   ratings  \\\n",
       "25763                NickSummer  0.341544  2022-03-31 -4.734343e-16 -0.272998   \n",
       "1671                CarmeAmbrós -0.050551  2022-07-01 -4.734343e-16 -0.272998   \n",
       "65808                  FürAnikó -1.109402  2019-05-31 -4.734343e-16 -0.272998   \n",
       "59836              JuanMagraner  0.527858  2021-10-29 -4.734343e-16 -0.272998   \n",
       "71292            AntonyFerguson  0.044525  2017-07-04 -4.734343e-16 -0.272998   \n",
       "...                         ...       ...         ...           ...       ...   \n",
       "6265       AlexanderMcCallSmith -1.260878  2015-04-06 -4.734343e-16 -0.272998   \n",
       "54886  VerenaWolfien,TimGössler  0.445589  2021-07-29 -4.734343e-16 -0.272998   \n",
       "76820                  AvaLucas  0.605938  2021-09-09 -4.734343e-16 -0.272998   \n",
       "860                 CharlesMinx  0.220430  2010-10-22 -4.734343e-16 -0.272998   \n",
       "15795                  矢島雅弘,石橋遊 -2.009112  2018-05-16 -4.734343e-16 -0.272998   \n",
       "\n",
       "       language_Hindi  language_afrikaans  language_arabic  ...  \\\n",
       "25763           False               False            False  ...   \n",
       "1671            False               False            False  ...   \n",
       "65808           False               False            False  ...   \n",
       "59836           False               False            False  ...   \n",
       "71292           False               False            False  ...   \n",
       "...               ...                 ...              ...  ...   \n",
       "6265            False               False            False  ...   \n",
       "54886           False               False            False  ...   \n",
       "76820           False               False            False  ...   \n",
       "860             False               False            False  ...   \n",
       "15795           False               False            False  ...   \n",
       "\n",
       "       language_portuguese  language_romanian  language_russian  \\\n",
       "25763                False              False             False   \n",
       "1671                 False              False             False   \n",
       "65808                False              False             False   \n",
       "59836                False              False             False   \n",
       "71292                False              False             False   \n",
       "...                    ...                ...               ...   \n",
       "6265                 False              False             False   \n",
       "54886                False              False             False   \n",
       "76820                False              False             False   \n",
       "860                  False              False             False   \n",
       "15795                False              False             False   \n",
       "\n",
       "       language_slovene  language_spanish  language_swedish  language_tamil  \\\n",
       "25763             False             False             False           False   \n",
       "1671              False             False             False           False   \n",
       "65808             False             False             False           False   \n",
       "59836             False              True             False           False   \n",
       "71292             False             False             False           False   \n",
       "...                 ...               ...               ...             ...   \n",
       "6265              False             False             False           False   \n",
       "54886             False             False             False           False   \n",
       "76820             False             False             False           False   \n",
       "860               False             False             False           False   \n",
       "15795             False             False             False           False   \n",
       "\n",
       "       language_telugu  language_turkish  language_urdu  \n",
       "25763            False             False          False  \n",
       "1671             False             False          False  \n",
       "65808            False             False          False  \n",
       "59836            False             False          False  \n",
       "71292            False             False          False  \n",
       "...                ...               ...            ...  \n",
       "6265             False             False          False  \n",
       "54886            False             False          False  \n",
       "76820            False             False          False  \n",
       "860              False             False          False  \n",
       "15795            False             False          False  \n",
       "\n",
       "[69990 rows x 40 columns]"
      ]
     },
     "execution_count": 81,
     "metadata": {},
     "output_type": "execute_result"
    }
   ],
   "source": [
    "X_train"
   ]
  },
  {
   "cell_type": "code",
   "execution_count": 82,
   "metadata": {},
   "outputs": [],
   "source": [
    "# merge label with feature\n",
    "X_train['price'] = y_train\n",
    "X_test['price'] = y_test"
   ]
  },
  {
   "cell_type": "code",
   "execution_count": null,
   "metadata": {},
   "outputs": [],
   "source": []
  },
  {
   "cell_type": "code",
   "execution_count": 83,
   "metadata": {},
   "outputs": [
    {
     "name": "stdout",
     "output_type": "stream",
     "text": [
      "<class 'pandas.core.frame.DataFrame'>\n",
      "Index: 69990 entries, 25763 to 15795\n",
      "Data columns (total 41 columns):\n",
      " #   Column                     Non-Null Count  Dtype         \n",
      "---  ------                     --------------  -----         \n",
      " 0   name                       69990 non-null  object        \n",
      " 1   author                     69990 non-null  object        \n",
      " 2   narrator                   69990 non-null  object        \n",
      " 3   time                       69990 non-null  float64       \n",
      " 4   releasedate                69990 non-null  datetime64[ns]\n",
      " 5   stars                      69990 non-null  float64       \n",
      " 6   ratings                    69990 non-null  float64       \n",
      " 7   language_Hindi             69990 non-null  bool          \n",
      " 8   language_afrikaans         69990 non-null  bool          \n",
      " 9   language_arabic            69990 non-null  bool          \n",
      " 10  language_basque            69990 non-null  bool          \n",
      " 11  language_bulgarian         69990 non-null  bool          \n",
      " 12  language_catalan           69990 non-null  bool          \n",
      " 13  language_czech             69990 non-null  bool          \n",
      " 14  language_danish            69990 non-null  bool          \n",
      " 15  language_dutch             69990 non-null  bool          \n",
      " 16  language_finnish           69990 non-null  bool          \n",
      " 17  language_french            69990 non-null  bool          \n",
      " 18  language_galician          69990 non-null  bool          \n",
      " 19  language_german            69990 non-null  bool          \n",
      " 20  language_greek             69990 non-null  bool          \n",
      " 21  language_hungarian         69990 non-null  bool          \n",
      " 22  language_icelandic         69990 non-null  bool          \n",
      " 23  language_italian           69990 non-null  bool          \n",
      " 24  language_japanese          69990 non-null  bool          \n",
      " 25  language_korean            69990 non-null  bool          \n",
      " 26  language_lithuanian        69990 non-null  bool          \n",
      " 27  language_mandarin_chinese  69990 non-null  bool          \n",
      " 28  language_norwegian         69990 non-null  bool          \n",
      " 29  language_polish            69990 non-null  bool          \n",
      " 30  language_portuguese        69990 non-null  bool          \n",
      " 31  language_romanian          69990 non-null  bool          \n",
      " 32  language_russian           69990 non-null  bool          \n",
      " 33  language_slovene           69990 non-null  bool          \n",
      " 34  language_spanish           69990 non-null  bool          \n",
      " 35  language_swedish           69990 non-null  bool          \n",
      " 36  language_tamil             69990 non-null  bool          \n",
      " 37  language_telugu            69990 non-null  bool          \n",
      " 38  language_turkish           69990 non-null  bool          \n",
      " 39  language_urdu              69990 non-null  bool          \n",
      " 40  price                      69990 non-null  int64         \n",
      "dtypes: bool(33), datetime64[ns](1), float64(3), int64(1), object(3)\n",
      "memory usage: 7.0+ MB\n"
     ]
    }
   ],
   "source": [
    "X_train.info()"
   ]
  },
  {
   "cell_type": "code",
   "execution_count": 84,
   "metadata": {},
   "outputs": [
    {
     "name": "stdout",
     "output_type": "stream",
     "text": [
      "<class 'pandas.core.frame.DataFrame'>\n",
      "Index: 17498 entries, 43760 to 68320\n",
      "Data columns (total 40 columns):\n",
      " #   Column                     Non-Null Count  Dtype         \n",
      "---  ------                     --------------  -----         \n",
      " 0   name                       17498 non-null  object        \n",
      " 1   author                     17498 non-null  object        \n",
      " 2   narrator                   17498 non-null  object        \n",
      " 3   time                       17498 non-null  float64       \n",
      " 4   releasedate                17498 non-null  datetime64[ns]\n",
      " 5   stars                      17498 non-null  float64       \n",
      " 6   ratings                    17498 non-null  float64       \n",
      " 7   language_Hindi             17498 non-null  bool          \n",
      " 8   language_afrikaans         17498 non-null  bool          \n",
      " 9   language_basque            17498 non-null  bool          \n",
      " 10  language_bulgarian         17498 non-null  bool          \n",
      " 11  language_catalan           17498 non-null  bool          \n",
      " 12  language_czech             17498 non-null  bool          \n",
      " 13  language_danish            17498 non-null  bool          \n",
      " 14  language_dutch             17498 non-null  bool          \n",
      " 15  language_finnish           17498 non-null  bool          \n",
      " 16  language_french            17498 non-null  bool          \n",
      " 17  language_galician          17498 non-null  bool          \n",
      " 18  language_german            17498 non-null  bool          \n",
      " 19  language_greek             17498 non-null  bool          \n",
      " 20  language_hebrew            17498 non-null  bool          \n",
      " 21  language_hungarian         17498 non-null  bool          \n",
      " 22  language_icelandic         17498 non-null  bool          \n",
      " 23  language_italian           17498 non-null  bool          \n",
      " 24  language_japanese          17498 non-null  bool          \n",
      " 25  language_mandarin_chinese  17498 non-null  bool          \n",
      " 26  language_norwegian         17498 non-null  bool          \n",
      " 27  language_polish            17498 non-null  bool          \n",
      " 28  language_portuguese        17498 non-null  bool          \n",
      " 29  language_romanian          17498 non-null  bool          \n",
      " 30  language_russian           17498 non-null  bool          \n",
      " 31  language_slovene           17498 non-null  bool          \n",
      " 32  language_spanish           17498 non-null  bool          \n",
      " 33  language_swedish           17498 non-null  bool          \n",
      " 34  language_tamil             17498 non-null  bool          \n",
      " 35  language_telugu            17498 non-null  bool          \n",
      " 36  language_turkish           17498 non-null  bool          \n",
      " 37  language_ukrainian         17498 non-null  bool          \n",
      " 38  language_urdu              17498 non-null  bool          \n",
      " 39  price                      15590 non-null  float64       \n",
      "dtypes: bool(32), datetime64[ns](1), float64(4), object(3)\n",
      "memory usage: 1.7+ MB\n"
     ]
    }
   ],
   "source": [
    "X_test.info()"
   ]
  },
  {
   "cell_type": "code",
   "execution_count": 85,
   "metadata": {},
   "outputs": [
    {
     "name": "stdout",
     "output_type": "stream",
     "text": [
      "Train missing data: 0 \n",
      "Test missing data: 1908\n",
      "\n",
      "Train duplicated data: 0 \n",
      "Test duplicated data: 0\n"
     ]
    }
   ],
   "source": [
    "print(\"Train missing data:\", X_train.isna().sum().sum(), \"\\nTest missing data:\", X_test.isna().sum().sum())\n",
    "print()\n",
    "print(\"Train duplicated data:\", X_train.duplicated().sum(), \"\\nTest duplicated data:\", X_test.duplicated().sum())\n"
   ]
  },
  {
   "cell_type": "markdown",
   "metadata": {},
   "source": [
    "### Done!"
   ]
  }
 ],
 "metadata": {
  "kernelspec": {
   "display_name": "vsc",
   "language": "python",
   "name": "python3"
  },
  "language_info": {
   "codemirror_mode": {
    "name": "ipython",
    "version": 3
   },
   "file_extension": ".py",
   "mimetype": "text/x-python",
   "name": "python",
   "nbconvert_exporter": "python",
   "pygments_lexer": "ipython3",
   "version": "3.12.3"
  }
 },
 "nbformat": 4,
 "nbformat_minor": 2
}
